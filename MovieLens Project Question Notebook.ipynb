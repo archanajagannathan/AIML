{
 "cells": [
  {
   "cell_type": "markdown",
   "metadata": {},
   "source": [
    "### `Project - MovieLens Data Analysis`\n",
    "\n",
    "The GroupLens Research Project is a research group in the Department of Computer Science and Engineering at the University of Minnesota. The data is widely used for collaborative filtering and other filtering solutions. However, we will be using this data to act as a means to demonstrate our skill in using Python to “play” with data.\n",
    "\n",
    "### `Objective:`\n",
    "- To implement the techniques learnt as a part of the course.\n",
    "\n",
    "### `Datasets Information:`\n",
    "\n",
    "*rating.csv:* It contains information on ratings given by the users to a particular movie.\n",
    "- user id: id assigned to every user\n",
    "- movie id: id assigned to every movie\n",
    "- rating: rating given by the user\n",
    "- timestamp: Time recorded when the user gave a rating\n",
    "\n",
    "*movie.csv:* File contains information related to the movies and their genre.\n",
    "- movie id: id assigned to every movie\n",
    "- movie title: Title of the movie\n",
    "- release date: Date of release of the movie\n",
    "- Action: Genre containing binary values (1 - for action 0 - not action)\n",
    "- Adventure: Genre containing binary values (1 - for adventure 0 - not adventure)\n",
    "- Animation: Genre containing binary values (1 - for animation 0 - not animation)\n",
    "- Children’s: Genre containing binary values (1 - for children's 0 - not children's)\n",
    "- Comedy: Genre containing binary values (1 - for comedy 0 - not comedy)\n",
    "- Crime: Genre containing binary values (1 - for crime 0 - not crime)\n",
    "- Documentary: Genre containing binary values (1 - for documentary 0 - not documentary)\n",
    "- Drama: Genre containing binary values (1 - for drama 0 - not drama)\n",
    "- Fantasy: Genre containing binary values (1 - for fantasy 0 - not fantasy)\n",
    "- Film-Noir: Genre containing binary values (1 - for film-noir 0 - not film-noir)\n",
    "- Horror: Genre containing binary values (1 - for horror 0 - not horror)\n",
    "- Musical: Genre containing binary values (1 - for musical 0 - not musical)\n",
    "- Mystery: Genre containing binary values (1 - for mystery 0 - not mystery)\n",
    "- Romance: Genre containing binary values (1 - for romance 0 - not romance)\n",
    "- Sci-Fi: Genre containing binary values (1 - for sci-fi 0 - not sci-fi)\n",
    "- Thriller: Genre containing binary values (1 - for thriller 0 - not thriller)\n",
    "- War: Genre containing binary values (1 - for war 0 - not war)\n",
    "- Western: Genre containing binary values (1 - for western - not western)\n",
    "\n",
    "\n",
    "*user.csv:* It contains information of the users who have rated the movies.\n",
    "- user id: id assigned to every user\n",
    "- age: Age of the user\n",
    "- gender: Gender of the user\n",
    "- occupation: Occupation of the user\n",
    "- zip code: Zip code of the use\n",
    "\n",
    "**`Please provide your insights wherever necessary.`**\n",
    "\n",
    "### `Learning Outcomes:`\n",
    "- Exploratory Data Analysis\n",
    "\n",
    "- Visualization using Python\n",
    "\n",
    "- Pandas – groupby, merging \n",
    "\n",
    "\n",
    "### `Domain` \n",
    "- Internet and Entertainment\n",
    "\n",
    "**Note that the project will need you to apply the concepts of groupby and merging extensively.**"
   ]
  },
  {
   "cell_type": "markdown",
   "metadata": {},
   "source": [
    "### 1. Import the necessary packages - 2.5 marks"
   ]
  },
  {
   "cell_type": "code",
   "execution_count": 1,
   "metadata": {},
   "outputs": [],
   "source": [
    "#import numpy,pandas,matplotlib and seaborn using import statement\n",
    "import pandas as pd\n",
    "import numpy as np\n",
    "from matplotlib import pyplot as plt\n",
    "from matplotlib.dates import DateFormatter\n",
    "import seaborn as sns\n",
    "import datetime\n",
    "\n",
    "%matplotlib inline\n",
    "#set color for seaborn to have a appearing plots\n",
    "sns.set(color_codes=True)"
   ]
  },
  {
   "cell_type": "markdown",
   "metadata": {},
   "source": [
    "### 2. Read the 3 datasets into dataframes - 2.5 marks"
   ]
  },
  {
   "cell_type": "code",
   "execution_count": 2,
   "metadata": {
    "scrolled": true
   },
   "outputs": [],
   "source": [
    "#Read files using pd.read_csv function\n",
    "rating = pd.read_csv(\"data.csv\")\n",
    "movie = pd.read_csv(\"item.csv\")\n",
    "user = pd.read_csv(\"user.csv\")"
   ]
  },
  {
   "cell_type": "markdown",
   "metadata": {},
   "source": [
    "### 3. Apply info, shape, describe, and find the number of missing values in the data. Present at least 3 observations from these operations - 2.5 marks\n",
    " - Note that you will need to do it for all the three datasets seperately"
   ]
  },
  {
   "cell_type": "code",
   "execution_count": 3,
   "metadata": {},
   "outputs": [
    {
     "name": "stdout",
     "output_type": "stream",
     "text": [
      "<class 'pandas.core.frame.DataFrame'>\n",
      "RangeIndex: 100000 entries, 0 to 99999\n",
      "Data columns (total 4 columns):\n",
      " #   Column     Non-Null Count   Dtype\n",
      "---  ------     --------------   -----\n",
      " 0   user id    100000 non-null  int64\n",
      " 1   movie id   100000 non-null  int64\n",
      " 2   rating     100000 non-null  int64\n",
      " 3   timestamp  100000 non-null  int64\n",
      "dtypes: int64(4)\n",
      "memory usage: 3.1 MB\n",
      "None\n",
      "\n",
      "            user id       movie id         rating     timestamp\n",
      "count  100000.00000  100000.000000  100000.000000  1.000000e+05\n",
      "mean      462.48475     425.530130       3.529860  8.835289e+08\n",
      "std       266.61442     330.798356       1.125674  5.343856e+06\n",
      "min         1.00000       1.000000       1.000000  8.747247e+08\n",
      "25%       254.00000     175.000000       3.000000  8.794487e+08\n",
      "50%       447.00000     322.000000       4.000000  8.828269e+08\n",
      "75%       682.00000     631.000000       4.000000  8.882600e+08\n",
      "max       943.00000    1682.000000       5.000000  8.932866e+08\n",
      "\n",
      "(100000, 4)\n",
      "\n",
      "user id      0\n",
      "movie id     0\n",
      "rating       0\n",
      "timestamp    0\n",
      "dtype: int64\n"
     ]
    }
   ],
   "source": [
    "#helps to find dataframe column type\n",
    "print(rating.info())\n",
    "print('')\n",
    "#five point summary\n",
    "print(rating.describe())\n",
    "print('')\n",
    "#number of rows and columns\n",
    "print(rating.shape)\n",
    "print('')\n",
    "#isnull.sum() provides column wise null value count and \n",
    "print(rating.isnull().sum())"
   ]
  },
  {
   "cell_type": "code",
   "execution_count": 4,
   "metadata": {},
   "outputs": [
    {
     "name": "stdout",
     "output_type": "stream",
     "text": [
      "<class 'pandas.core.frame.DataFrame'>\n",
      "RangeIndex: 1681 entries, 0 to 1680\n",
      "Data columns (total 22 columns):\n",
      " #   Column        Non-Null Count  Dtype \n",
      "---  ------        --------------  ----- \n",
      " 0   movie id      1681 non-null   int64 \n",
      " 1   movie title   1681 non-null   object\n",
      " 2   release date  1681 non-null   object\n",
      " 3   unknown       1681 non-null   int64 \n",
      " 4   Action        1681 non-null   int64 \n",
      " 5   Adventure     1681 non-null   int64 \n",
      " 6   Animation     1681 non-null   int64 \n",
      " 7   Childrens     1681 non-null   int64 \n",
      " 8   Comedy        1681 non-null   int64 \n",
      " 9   Crime         1681 non-null   int64 \n",
      " 10  Documentary   1681 non-null   int64 \n",
      " 11  Drama         1681 non-null   int64 \n",
      " 12  Fantasy       1681 non-null   int64 \n",
      " 13  Film-Noir     1681 non-null   int64 \n",
      " 14  Horror        1681 non-null   int64 \n",
      " 15  Musical       1681 non-null   int64 \n",
      " 16  Mystery       1681 non-null   int64 \n",
      " 17  Romance       1681 non-null   int64 \n",
      " 18  Sci-Fi        1681 non-null   int64 \n",
      " 19  Thriller      1681 non-null   int64 \n",
      " 20  War           1681 non-null   int64 \n",
      " 21  Western       1681 non-null   int64 \n",
      "dtypes: int64(20), object(2)\n",
      "memory usage: 289.0+ KB\n",
      "None\n",
      "\n",
      "          movie id      unknown       Action    Adventure    Animation  \\\n",
      "count  1681.000000  1681.000000  1681.000000  1681.000000  1681.000000   \n",
      "mean    841.841761     0.000595     0.149316     0.080309     0.024985   \n",
      "std     485.638077     0.024390     0.356506     0.271852     0.156126   \n",
      "min       1.000000     0.000000     0.000000     0.000000     0.000000   \n",
      "25%     422.000000     0.000000     0.000000     0.000000     0.000000   \n",
      "50%     842.000000     0.000000     0.000000     0.000000     0.000000   \n",
      "75%    1262.000000     0.000000     0.000000     0.000000     0.000000   \n",
      "max    1682.000000     1.000000     1.000000     1.000000     1.000000   \n",
      "\n",
      "         Childrens       Comedy        Crime  Documentary        Drama  \\\n",
      "count  1681.000000  1681.000000  1681.000000  1681.000000  1681.000000   \n",
      "mean      0.072576     0.300416     0.064842     0.029744     0.431291   \n",
      "std       0.259516     0.458576     0.246321     0.169931     0.495404   \n",
      "min       0.000000     0.000000     0.000000     0.000000     0.000000   \n",
      "25%       0.000000     0.000000     0.000000     0.000000     0.000000   \n",
      "50%       0.000000     0.000000     0.000000     0.000000     0.000000   \n",
      "75%       0.000000     1.000000     0.000000     0.000000     1.000000   \n",
      "max       1.000000     1.000000     1.000000     1.000000     1.000000   \n",
      "\n",
      "           Fantasy    Film-Noir       Horror      Musical      Mystery  \\\n",
      "count  1681.000000  1681.000000  1681.000000  1681.000000  1681.000000   \n",
      "mean      0.013087     0.014277     0.054729     0.033314     0.036288   \n",
      "std       0.113683     0.118667     0.227519     0.179507     0.187061   \n",
      "min       0.000000     0.000000     0.000000     0.000000     0.000000   \n",
      "25%       0.000000     0.000000     0.000000     0.000000     0.000000   \n",
      "50%       0.000000     0.000000     0.000000     0.000000     0.000000   \n",
      "75%       0.000000     0.000000     0.000000     0.000000     0.000000   \n",
      "max       1.000000     1.000000     1.000000     1.000000     1.000000   \n",
      "\n",
      "           Romance       Sci-Fi     Thriller          War      Western  \n",
      "count  1681.000000  1681.000000  1681.000000  1681.000000  1681.000000  \n",
      "mean      0.146936     0.060083     0.149316     0.042237     0.016062  \n",
      "std       0.354148     0.237712     0.356506     0.201189     0.125751  \n",
      "min       0.000000     0.000000     0.000000     0.000000     0.000000  \n",
      "25%       0.000000     0.000000     0.000000     0.000000     0.000000  \n",
      "50%       0.000000     0.000000     0.000000     0.000000     0.000000  \n",
      "75%       0.000000     0.000000     0.000000     0.000000     0.000000  \n",
      "max       1.000000     1.000000     1.000000     1.000000     1.000000  \n",
      "\n",
      "(1681, 22)\n",
      "\n",
      "movie id        0\n",
      "movie title     0\n",
      "release date    0\n",
      "unknown         0\n",
      "Action          0\n",
      "Adventure       0\n",
      "Animation       0\n",
      "Childrens       0\n",
      "Comedy          0\n",
      "Crime           0\n",
      "Documentary     0\n",
      "Drama           0\n",
      "Fantasy         0\n",
      "Film-Noir       0\n",
      "Horror          0\n",
      "Musical         0\n",
      "Mystery         0\n",
      "Romance         0\n",
      "Sci-Fi          0\n",
      "Thriller        0\n",
      "War             0\n",
      "Western         0\n",
      "dtype: int64\n"
     ]
    }
   ],
   "source": [
    "#helps to find dataframe column type\n",
    "print(movie.info())\n",
    "print('')\n",
    "#five point summary\n",
    "print(movie.describe())\n",
    "print('')\n",
    "#number of rows and columns\n",
    "print(movie.shape)\n",
    "print('')\n",
    "#isnull.sum() provides column wise null value count and \n",
    "print(movie.isnull().sum())"
   ]
  },
  {
   "cell_type": "code",
   "execution_count": 5,
   "metadata": {},
   "outputs": [
    {
     "name": "stdout",
     "output_type": "stream",
     "text": [
      "<class 'pandas.core.frame.DataFrame'>\n",
      "RangeIndex: 943 entries, 0 to 942\n",
      "Data columns (total 5 columns):\n",
      " #   Column      Non-Null Count  Dtype \n",
      "---  ------      --------------  ----- \n",
      " 0   user id     943 non-null    int64 \n",
      " 1   age         943 non-null    int64 \n",
      " 2   gender      943 non-null    object\n",
      " 3   occupation  943 non-null    object\n",
      " 4   zip code    943 non-null    object\n",
      "dtypes: int64(2), object(3)\n",
      "memory usage: 37.0+ KB\n",
      "None\n",
      "\n",
      "          user id         age\n",
      "count  943.000000  943.000000\n",
      "mean   472.000000   34.051962\n",
      "std    272.364951   12.192740\n",
      "min      1.000000    7.000000\n",
      "25%    236.500000   25.000000\n",
      "50%    472.000000   31.000000\n",
      "75%    707.500000   43.000000\n",
      "max    943.000000   73.000000\n",
      "\n",
      "(943, 5)\n",
      "\n",
      "user id       0\n",
      "age           0\n",
      "gender        0\n",
      "occupation    0\n",
      "zip code      0\n",
      "dtype: int64\n"
     ]
    }
   ],
   "source": [
    "#helps to find dataframe column type\n",
    "print(user.info())\n",
    "print('')\n",
    "#five point summary\n",
    "print(user.describe())\n",
    "print('')\n",
    "#number of rows and columns\n",
    "print(user.shape)\n",
    "print('')\n",
    "#isnull.sum() provides column wise null value count and \n",
    "print(user.isnull().sum())"
   ]
  },
  {
   "cell_type": "markdown",
   "metadata": {},
   "source": [
    "**Observations:**\n",
    "\n",
    "- All the three datasets has no null values. The columns are defined as not null as well.\n",
    "- The age ranges who watches the movie are between 7 and 73. \n",
    "- 943 users have provided 100K ratings for 1681 movies of 19 genres\n",
    "- Movie Id and user id are keys to join the three dataframes\n",
    "- In Movie dataset there is a unknown category of Genre\n",
    "- In the rating data, rating is negatively skewed as the mean is lesser than the median.75% of the rating are above 4\n",
    "- Rating range from 1 to 5. Outlier is found for the value less than 1.5 which is for 1 rating with the formula q1-(1.5 * IQR) ie. (3-(4-3)*1.5) = 1.5\n",
    "- There are 670 Male and 273 Female participants"
   ]
  },
  {
   "cell_type": "code",
   "execution_count": null,
   "metadata": {},
   "outputs": [],
   "source": [
    "#Extra code\n",
    "print(user[user['gender']=='F'].count()) \n",
    "print('')\n",
    "print(user.isnull().sum().sum())\n",
    "print('')\n",
    "print(movie.head())\n",
    "print('')\n",
    "print(max(rating['user id']))\n",
    "print('')\n",
    "print(rating.head())\n",
    "print('')\n",
    "#Get relevant percentiles and see their distribution.\n",
    "rating['rating'].quantile([0, 0.1, 0.2, 0.3, 0.4, 0.5, 0.6, 0.7,0.75, 0.8, 0.9, 1])\n",
    "print(3-(4-3)*1.5)\n",
    "print('')\n",
    "print(4+(4-3)*1.5)\n",
    "print(np.sum(movie['Action'] !=0))\n",
    "movie.count(axis=0)"
   ]
  },
  {
   "cell_type": "markdown",
   "metadata": {},
   "source": [
    "### 4. Find the number of movies per genre using the item data - 2.5 marks"
   ]
  },
  {
   "cell_type": "code",
   "execution_count": 6,
   "metadata": {},
   "outputs": [
    {
     "data": {
      "text/plain": [
       "unknown          1\n",
       "Action         251\n",
       "Adventure      135\n",
       "Animation       42\n",
       "Childrens      122\n",
       "Comedy         505\n",
       "Crime          109\n",
       "Documentary     50\n",
       "Drama          725\n",
       "Fantasy         22\n",
       "Film-Noir       24\n",
       "Horror          92\n",
       "Musical         56\n",
       "Mystery         61\n",
       "Romance        247\n",
       "Sci-Fi         101\n",
       "Thriller       251\n",
       "War             71\n",
       "Western         27\n",
       "dtype: int64"
      ]
     },
     "execution_count": 6,
     "metadata": {},
     "output_type": "execute_result"
    }
   ],
   "source": [
    "#Sum is a groupby function used to get the sum of movies per genre\n",
    "movie.loc[:,'unknown':'Western'].sum()\n"
   ]
  },
  {
   "cell_type": "markdown",
   "metadata": {},
   "source": [
    "**Insights:**\n",
    "- 1681 movies are classified into 19 genre\n",
    "- There is one movie under unknown genre\n",
    "- Lowest count genre is Fantasy and highest is Drama"
   ]
  },
  {
   "cell_type": "markdown",
   "metadata": {},
   "source": [
    "### 5. Drop the movie where the genre is unknown - 2.5 marks"
   ]
  },
  {
   "cell_type": "code",
   "execution_count": 7,
   "metadata": {},
   "outputs": [
    {
     "data": {
      "text/plain": [
       "1681"
      ]
     },
     "execution_count": 7,
     "metadata": {},
     "output_type": "execute_result"
    }
   ],
   "source": [
    "len(movie)"
   ]
  },
  {
   "cell_type": "code",
   "execution_count": 8,
   "metadata": {},
   "outputs": [],
   "source": [
    "#filter is used to select genres except unknown\n",
    "movie = movie[movie['unknown']!=1]"
   ]
  },
  {
   "cell_type": "code",
   "execution_count": 9,
   "metadata": {},
   "outputs": [
    {
     "data": {
      "text/plain": [
       "1680"
      ]
     },
     "execution_count": 9,
     "metadata": {},
     "output_type": "execute_result"
    }
   ],
   "source": [
    "#display dataset after dropping a column\n",
    "len(movie)"
   ]
  },
  {
   "cell_type": "code",
   "execution_count": 10,
   "metadata": {},
   "outputs": [],
   "source": [
    "movie.drop('unknown',axis=1,inplace=True)"
   ]
  },
  {
   "cell_type": "markdown",
   "metadata": {},
   "source": [
    "**Insights:**\n",
    "- The unknown genre is filtered from the dataset\n",
    "- There was one movie under the unknown genre"
   ]
  },
  {
   "cell_type": "markdown",
   "metadata": {},
   "source": [
    "### 6. Find the movies that have more than one genre - 5 marks\n",
    "\n",
    "hint: use sum on the axis = 1\n",
    "\n",
    "Display movie name, number of genres for the movie in dataframe\n",
    "\n",
    "and also print(total number of movies which have more than one genres)"
   ]
  },
  {
   "cell_type": "code",
   "execution_count": 11,
   "metadata": {},
   "outputs": [
    {
     "name": "stdout",
     "output_type": "stream",
     "text": [
      "             movie title  total_movies\n",
      "0             Toy Story              3\n",
      "1             GoldenEye              3\n",
      "3            Get Shorty              3\n",
      "4               Copycat              3\n",
      "6        Twelve Monkeys              2\n",
      "...                  ...           ...\n",
      "1667  MURDER and murder              3\n",
      "1668            Tainted              2\n",
      "1671             Mirage              2\n",
      "1677          B. Monkey              2\n",
      "1678      Sliding Doors              2\n",
      "\n",
      "[849 rows x 2 columns]\n",
      "\n",
      "Total Number of movies with more than one genre: 849\n"
     ]
    },
    {
     "name": "stderr",
     "output_type": "stream",
     "text": [
      "<ipython-input-11-6f5ce197d16d>:6: SettingWithCopyWarning: \n",
      "A value is trying to be set on a copy of a slice from a DataFrame.\n",
      "Try using .loc[row_indexer,col_indexer] = value instead\n",
      "\n",
      "See the caveats in the documentation: https://pandas.pydata.org/pandas-docs/stable/user_guide/indexing.html#returning-a-view-versus-a-copy\n",
      "  sub['total_movies']=sub.iloc[:, 3:].sum(axis=1)\n"
     ]
    }
   ],
   "source": [
    "#get the sum of genres by column using index location\n",
    "number_of_genres = movie.iloc[:, 3:].sum(axis=1)\n",
    "#check for genre greater than 1\n",
    "sub =movie[number_of_genres > 1]\n",
    "#caculate number of genres each movie falls under and creating a new column\n",
    "sub['total_movies']=sub.iloc[:, 3:].sum(axis=1)\n",
    "#print the movie title and number of genres\n",
    "print(sub.iloc [:, [1,21]])\n",
    "print('')\n",
    "#print total number of movies with more than one genre\n",
    "print(f'Total Number of movies with more than one genre: {len(sub)}')"
   ]
  },
  {
   "cell_type": "markdown",
   "metadata": {},
   "source": [
    "**Insights:**\n",
    "- There are totally 849 movies out of 1681 for which the genre is more than 1\n"
   ]
  },
  {
   "cell_type": "markdown",
   "metadata": {},
   "source": [
    "### 7. Univariate plots of columns: 'rating', 'Age', 'release year', 'Gender' and 'Occupation' - 10 marks\n",
    "\n",
    "*HINT: Use distplot for age and countplot for release year, ratings, *\n",
    "\n",
    "*HINT: Please refer to the below snippet to understand how to get to release year from release date. You can use str.split() as depicted below or you could convert it to pandas datetime format and extract year (.dt.year)*"
   ]
  },
  {
   "cell_type": "code",
   "execution_count": 12,
   "metadata": {},
   "outputs": [
    {
     "name": "stderr",
     "output_type": "stream",
     "text": [
      "G:\\Jupiter\\lib\\site-packages\\seaborn\\distributions.py:2551: FutureWarning: `distplot` is a deprecated function and will be removed in a future version. Please adapt your code to use either `displot` (a figure-level function with similar flexibility) or `histplot` (an axes-level function for histograms).\n",
      "  warnings.warn(msg, FutureWarning)\n"
     ]
    },
    {
     "data": {
      "image/png": "[encoded data removed]",
      "text/plain": [
       "<Figure size 432x288 with 1 Axes>"
      ]
     },
     "metadata": {},
     "output_type": "display_data"
    },
    {
     "data": {
      "image/png": "[encoded data removed]",
      "text/plain": [
       "<Figure size 432x288 with 1 Axes>"
      ]
     },
     "metadata": {},
     "output_type": "display_data"
    },
    {
     "data": {
      "image/png": "[encoded data removed]",
      "text/plain": [
       "<Figure size 432x288 with 1 Axes>"
      ]
     },
     "metadata": {},
     "output_type": "display_data"
    },
    {
     "data": {
      "image/png": "[encoded data removed]",
      "text/plain": [
       "<Figure size 432x288 with 1 Axes>"
      ]
     },
     "metadata": {},
     "output_type": "display_data"
    }
   ],
   "source": [
    "#Distplot with KDE to plot the age\n",
    "sns.distplot(user['age'])\n",
    "plt.show()\n",
    "# countplot to plot gender,occupation and rating\n",
    "sns.countplot(x='gender', data=user)\n",
    "plt.show()\n",
    "ax = sns.countplot(x=\"occupation\", data=user)\n",
    "ax.set_xticklabels(ax.get_xticklabels(), rotation=40, ha=\"right\")\n",
    "#plt.tight_layout()\n",
    "plt.show()\n",
    "sns.countplot(x='rating', data=rating);\n",
    "plt.show()\n"
   ]
  },
  {
   "cell_type": "code",
   "execution_count": 14,
   "metadata": {},
   "outputs": [
    {
     "data": {
      "image/png": "[encoded data removed]",
      "text/plain": [
       "<Figure size 1296x720 with 1 Axes>"
      ]
     },
     "metadata": {},
     "output_type": "display_data"
    }
   ],
   "source": [
    "#Pandas DateTimeIndex to convert the release date and take year from date\n",
    "#create a new column with release year\n",
    "movie['Release Year']=pd.to_datetime(movie['release date']).dt.year\n",
    "#Plot year using count plot and find number of release per year\n",
    "ax = sns.countplot(x='Release Year', data=movie)\n",
    "#set the figure size\n",
    "plt.rcParams[\"figure.figsize\"] = (20, 10)\n",
    "#set the font and alignment of the x label\n",
    "plt.xticks(\n",
    "    rotation=90, \n",
    "    horizontalalignment='right',\n",
    "    fontweight='light',\n",
    "    fontsize='x-large'  \n",
    ")\n",
    "plt.show()"
   ]
  },
  {
   "cell_type": "markdown",
   "metadata": {},
   "source": [
    "**Insights:**\n",
    "- Age distplot: Age 20 to 40 has more density distribution\n",
    "- Gender Plot: Male users provided more rating than female users\n",
    "- Occupation plot: student provided the highest number of movie ratings where as doctors and home makers provided the lowest number of movie ratings\n",
    "- Rating plot: rating 1 has the lowest count and 4 has the highest count\n",
    "- Release year plot: release year of movie from 1993 is higher and it drops in 1998"
   ]
  },
  {
   "cell_type": "markdown",
   "metadata": {},
   "source": [
    "### 8. Visualize how popularity of genres has changed over the years - 10 marks\n",
    "\n",
    "Note that you need to use the **percent of number of releases in a year** as a parameter of popularity of a genre\n",
    "\n",
    "Hint 1: You need to reach to a data frame where the release year is the index and the genre is the column names (one cell shows the number of release in a year in one genre) or vice versa. (Drop unnecessary column if there are any)\n",
    "\n",
    "Hint 2: Find the total number of movies release in a year(use item dataset to get count of movies released in a particular year, store that value in a new column as 'total'). Now divide the value of each genre in that year by total to get percentage number of release in a particular year.\n",
    "`(df.div(df['total'], axis= 0) * 100)`\n",
    "\n",
    "Once that is achieved, you can either use univariate plots or can use the heatmap to visualise all the changes over the years \n",
    "in one go. \n",
    "\n",
    "Hint 3: Use groupby on the relevant column and use sum() on the same to find out the number of releases in a year/genre."
   ]
  },
  {
   "cell_type": "code",
   "execution_count": 15,
   "metadata": {},
   "outputs": [],
   "source": [
    "#create a copy of movie dataset\n",
    "df= pd.DataFrame(movie).copy()\n",
    "#Group df by release year\n",
    "df_releaseyr = df.groupby('Release Year').sum()\n",
    "#drop unnecessary columns\n",
    "df_releaseyr.drop(['movie id'], axis=1,inplace=True)\n"
   ]
  },
  {
   "cell_type": "code",
   "execution_count": 16,
   "metadata": {},
   "outputs": [],
   "source": [
    "# Find total number of movies released in a year\n",
    "dt_total = movie.groupby('Release Year')['movie id'].count().reset_index().rename(columns={'movie id':'Total'}).set_index('Release Year')"
   ]
  },
  {
   "cell_type": "code",
   "execution_count": 17,
   "metadata": {},
   "outputs": [
    {
     "name": "stdout",
     "output_type": "stream",
     "text": [
      "              Action  Adventure  Animation  Childrens  Comedy  Crime  \\\n",
      "Release Year                                                           \n",
      "1922               0          0          0          0       0      0   \n",
      "1926               0          0          0          0       0      0   \n",
      "1930               0          0          0          0       0      0   \n",
      "1931               0          0          0          0       0      1   \n",
      "1932               0          0          0          0       0      0   \n",
      "...              ...        ...        ...        ...     ...    ...   \n",
      "1994              30         13          4         15      82      8   \n",
      "1995              40         22          6         21      63     11   \n",
      "1996              44         24          9         21     108     21   \n",
      "1997              46         20          3         22      87     30   \n",
      "1998              12          3          0          1      13      7   \n",
      "\n",
      "              Documentary  Drama  Fantasy  Film-Noir  Horror  Musical  \\\n",
      "Release Year                                                            \n",
      "1922                    0      0        0          0       1        0   \n",
      "1926                    0      1        0          0       0        0   \n",
      "1930                    0      1        0          0       0        0   \n",
      "1931                    0      0        0          1       0        0   \n",
      "1932                    0      0        0          0       0        0   \n",
      "...                   ...    ...      ...        ...     ...      ...   \n",
      "1994                    9     97        3          0       8        2   \n",
      "1995                    5     89        3          1      14        3   \n",
      "1996                   18    170        6          1      11        9   \n",
      "1997                    6    113        4          2       8        5   \n",
      "1998                    3     33        1          2       4        1   \n",
      "\n",
      "              Mystery  Romance  Sci-Fi  Thriller  War  Western  Total  \n",
      "Release Year                                                           \n",
      "1922                0        0       0         0    0        0      1  \n",
      "1926                0        0       0         0    0        0      1  \n",
      "1930                0        0       0         0    0        0      1  \n",
      "1931                0        0       0         1    0        0      1  \n",
      "1932                0        1       0         0    1        0      1  \n",
      "...               ...      ...     ...       ...  ...      ...    ...  \n",
      "1994                2       35       7        25    7        6    214  \n",
      "1995                5       37      15        39    5        2    219  \n",
      "1996                6       38      15        47    9        2    355  \n",
      "1997               18       51      13        54   14        0    286  \n",
      "1998                3       11       5        18    0        0     65  \n",
      "\n",
      "[71 rows x 19 columns]\n"
     ]
    }
   ],
   "source": [
    "# join total number of movie released with df_releaseyr dataframe\n",
    "df_releaseyr = df_releaseyr.join(dt_total)\n",
    "print(df_releaseyr)"
   ]
  },
  {
   "cell_type": "code",
   "execution_count": 18,
   "metadata": {},
   "outputs": [
    {
     "data": {
      "text/html": [
       "<div>\n",
       "<style scoped>\n",
       "    .dataframe tbody tr th:only-of-type {\n",
       "        vertical-align: middle;\n",
       "    }\n",
       "\n",
       "    .dataframe tbody tr th {\n",
       "        vertical-align: top;\n",
       "    }\n",
       "\n",
       "    .dataframe thead th {\n",
       "        text-align: right;\n",
       "    }\n",
       "</style>\n",
       "<table border=\"1\" class=\"dataframe\">\n",
       "  <thead>\n",
       "    <tr style=\"text-align: right;\">\n",
       "      <th>Release Year</th>\n",
       "      <th>1922</th>\n",
       "      <th>1926</th>\n",
       "      <th>1930</th>\n",
       "      <th>1931</th>\n",
       "      <th>1932</th>\n",
       "      <th>1933</th>\n",
       "      <th>1934</th>\n",
       "      <th>1935</th>\n",
       "      <th>1936</th>\n",
       "      <th>1937</th>\n",
       "      <th>...</th>\n",
       "      <th>1989</th>\n",
       "      <th>1990</th>\n",
       "      <th>1991</th>\n",
       "      <th>1992</th>\n",
       "      <th>1993</th>\n",
       "      <th>1994</th>\n",
       "      <th>1995</th>\n",
       "      <th>1996</th>\n",
       "      <th>1997</th>\n",
       "      <th>1998</th>\n",
       "    </tr>\n",
       "  </thead>\n",
       "  <tbody>\n",
       "    <tr>\n",
       "      <th>Action</th>\n",
       "      <td>0.0</td>\n",
       "      <td>0.0</td>\n",
       "      <td>0.0</td>\n",
       "      <td>0.0</td>\n",
       "      <td>0.0</td>\n",
       "      <td>0.0</td>\n",
       "      <td>0.0</td>\n",
       "      <td>0.0</td>\n",
       "      <td>0.0</td>\n",
       "      <td>0.0</td>\n",
       "      <td>...</td>\n",
       "      <td>40.000000</td>\n",
       "      <td>29.166667</td>\n",
       "      <td>9.090909</td>\n",
       "      <td>21.621622</td>\n",
       "      <td>15.873016</td>\n",
       "      <td>14.018692</td>\n",
       "      <td>18.264840</td>\n",
       "      <td>12.394366</td>\n",
       "      <td>16.083916</td>\n",
       "      <td>18.461538</td>\n",
       "    </tr>\n",
       "    <tr>\n",
       "      <th>Adventure</th>\n",
       "      <td>0.0</td>\n",
       "      <td>0.0</td>\n",
       "      <td>0.0</td>\n",
       "      <td>0.0</td>\n",
       "      <td>0.0</td>\n",
       "      <td>0.0</td>\n",
       "      <td>0.0</td>\n",
       "      <td>0.0</td>\n",
       "      <td>0.0</td>\n",
       "      <td>0.0</td>\n",
       "      <td>...</td>\n",
       "      <td>26.666667</td>\n",
       "      <td>4.166667</td>\n",
       "      <td>4.545455</td>\n",
       "      <td>2.702703</td>\n",
       "      <td>7.142857</td>\n",
       "      <td>6.074766</td>\n",
       "      <td>10.045662</td>\n",
       "      <td>6.760563</td>\n",
       "      <td>6.993007</td>\n",
       "      <td>4.615385</td>\n",
       "    </tr>\n",
       "    <tr>\n",
       "      <th>Animation</th>\n",
       "      <td>0.0</td>\n",
       "      <td>0.0</td>\n",
       "      <td>0.0</td>\n",
       "      <td>0.0</td>\n",
       "      <td>0.0</td>\n",
       "      <td>0.0</td>\n",
       "      <td>0.0</td>\n",
       "      <td>0.0</td>\n",
       "      <td>0.0</td>\n",
       "      <td>25.0</td>\n",
       "      <td>...</td>\n",
       "      <td>0.000000</td>\n",
       "      <td>0.000000</td>\n",
       "      <td>4.545455</td>\n",
       "      <td>5.405405</td>\n",
       "      <td>0.793651</td>\n",
       "      <td>1.869159</td>\n",
       "      <td>2.739726</td>\n",
       "      <td>2.535211</td>\n",
       "      <td>1.048951</td>\n",
       "      <td>0.000000</td>\n",
       "    </tr>\n",
       "    <tr>\n",
       "      <th>Childrens</th>\n",
       "      <td>0.0</td>\n",
       "      <td>0.0</td>\n",
       "      <td>0.0</td>\n",
       "      <td>0.0</td>\n",
       "      <td>0.0</td>\n",
       "      <td>0.0</td>\n",
       "      <td>0.0</td>\n",
       "      <td>0.0</td>\n",
       "      <td>0.0</td>\n",
       "      <td>25.0</td>\n",
       "      <td>...</td>\n",
       "      <td>0.000000</td>\n",
       "      <td>4.166667</td>\n",
       "      <td>4.545455</td>\n",
       "      <td>2.702703</td>\n",
       "      <td>4.761905</td>\n",
       "      <td>7.009346</td>\n",
       "      <td>9.589041</td>\n",
       "      <td>5.915493</td>\n",
       "      <td>7.692308</td>\n",
       "      <td>1.538462</td>\n",
       "    </tr>\n",
       "    <tr>\n",
       "      <th>Comedy</th>\n",
       "      <td>0.0</td>\n",
       "      <td>0.0</td>\n",
       "      <td>0.0</td>\n",
       "      <td>0.0</td>\n",
       "      <td>0.0</td>\n",
       "      <td>50.0</td>\n",
       "      <td>50.0</td>\n",
       "      <td>50.0</td>\n",
       "      <td>50.0</td>\n",
       "      <td>50.0</td>\n",
       "      <td>...</td>\n",
       "      <td>20.000000</td>\n",
       "      <td>25.000000</td>\n",
       "      <td>27.272727</td>\n",
       "      <td>32.432432</td>\n",
       "      <td>30.952381</td>\n",
       "      <td>38.317757</td>\n",
       "      <td>28.767123</td>\n",
       "      <td>30.422535</td>\n",
       "      <td>30.419580</td>\n",
       "      <td>20.000000</td>\n",
       "    </tr>\n",
       "    <tr>\n",
       "      <th>Crime</th>\n",
       "      <td>0.0</td>\n",
       "      <td>0.0</td>\n",
       "      <td>0.0</td>\n",
       "      <td>100.0</td>\n",
       "      <td>0.0</td>\n",
       "      <td>0.0</td>\n",
       "      <td>0.0</td>\n",
       "      <td>0.0</td>\n",
       "      <td>0.0</td>\n",
       "      <td>0.0</td>\n",
       "      <td>...</td>\n",
       "      <td>6.666667</td>\n",
       "      <td>12.500000</td>\n",
       "      <td>0.000000</td>\n",
       "      <td>13.513514</td>\n",
       "      <td>5.555556</td>\n",
       "      <td>3.738318</td>\n",
       "      <td>5.022831</td>\n",
       "      <td>5.915493</td>\n",
       "      <td>10.489510</td>\n",
       "      <td>10.769231</td>\n",
       "    </tr>\n",
       "    <tr>\n",
       "      <th>Documentary</th>\n",
       "      <td>0.0</td>\n",
       "      <td>0.0</td>\n",
       "      <td>0.0</td>\n",
       "      <td>0.0</td>\n",
       "      <td>0.0</td>\n",
       "      <td>0.0</td>\n",
       "      <td>0.0</td>\n",
       "      <td>0.0</td>\n",
       "      <td>0.0</td>\n",
       "      <td>0.0</td>\n",
       "      <td>...</td>\n",
       "      <td>0.000000</td>\n",
       "      <td>8.333333</td>\n",
       "      <td>4.545455</td>\n",
       "      <td>0.000000</td>\n",
       "      <td>3.174603</td>\n",
       "      <td>4.205607</td>\n",
       "      <td>2.283105</td>\n",
       "      <td>5.070423</td>\n",
       "      <td>2.097902</td>\n",
       "      <td>4.615385</td>\n",
       "    </tr>\n",
       "    <tr>\n",
       "      <th>Drama</th>\n",
       "      <td>0.0</td>\n",
       "      <td>100.0</td>\n",
       "      <td>100.0</td>\n",
       "      <td>0.0</td>\n",
       "      <td>0.0</td>\n",
       "      <td>0.0</td>\n",
       "      <td>25.0</td>\n",
       "      <td>0.0</td>\n",
       "      <td>50.0</td>\n",
       "      <td>25.0</td>\n",
       "      <td>...</td>\n",
       "      <td>53.333333</td>\n",
       "      <td>50.000000</td>\n",
       "      <td>50.000000</td>\n",
       "      <td>37.837838</td>\n",
       "      <td>50.793651</td>\n",
       "      <td>45.327103</td>\n",
       "      <td>40.639269</td>\n",
       "      <td>47.887324</td>\n",
       "      <td>39.510490</td>\n",
       "      <td>50.769231</td>\n",
       "    </tr>\n",
       "    <tr>\n",
       "      <th>Fantasy</th>\n",
       "      <td>0.0</td>\n",
       "      <td>0.0</td>\n",
       "      <td>0.0</td>\n",
       "      <td>0.0</td>\n",
       "      <td>0.0</td>\n",
       "      <td>0.0</td>\n",
       "      <td>0.0</td>\n",
       "      <td>0.0</td>\n",
       "      <td>0.0</td>\n",
       "      <td>0.0</td>\n",
       "      <td>...</td>\n",
       "      <td>0.000000</td>\n",
       "      <td>0.000000</td>\n",
       "      <td>4.545455</td>\n",
       "      <td>0.000000</td>\n",
       "      <td>0.000000</td>\n",
       "      <td>1.401869</td>\n",
       "      <td>1.369863</td>\n",
       "      <td>1.690141</td>\n",
       "      <td>1.398601</td>\n",
       "      <td>1.538462</td>\n",
       "    </tr>\n",
       "    <tr>\n",
       "      <th>Film-Noir</th>\n",
       "      <td>0.0</td>\n",
       "      <td>0.0</td>\n",
       "      <td>0.0</td>\n",
       "      <td>100.0</td>\n",
       "      <td>0.0</td>\n",
       "      <td>0.0</td>\n",
       "      <td>0.0</td>\n",
       "      <td>0.0</td>\n",
       "      <td>0.0</td>\n",
       "      <td>0.0</td>\n",
       "      <td>...</td>\n",
       "      <td>0.000000</td>\n",
       "      <td>4.166667</td>\n",
       "      <td>0.000000</td>\n",
       "      <td>0.000000</td>\n",
       "      <td>0.793651</td>\n",
       "      <td>0.000000</td>\n",
       "      <td>0.456621</td>\n",
       "      <td>0.281690</td>\n",
       "      <td>0.699301</td>\n",
       "      <td>3.076923</td>\n",
       "    </tr>\n",
       "    <tr>\n",
       "      <th>Horror</th>\n",
       "      <td>100.0</td>\n",
       "      <td>0.0</td>\n",
       "      <td>0.0</td>\n",
       "      <td>0.0</td>\n",
       "      <td>0.0</td>\n",
       "      <td>0.0</td>\n",
       "      <td>0.0</td>\n",
       "      <td>25.0</td>\n",
       "      <td>0.0</td>\n",
       "      <td>0.0</td>\n",
       "      <td>...</td>\n",
       "      <td>0.000000</td>\n",
       "      <td>4.166667</td>\n",
       "      <td>4.545455</td>\n",
       "      <td>16.216216</td>\n",
       "      <td>3.968254</td>\n",
       "      <td>3.738318</td>\n",
       "      <td>6.392694</td>\n",
       "      <td>3.098592</td>\n",
       "      <td>2.797203</td>\n",
       "      <td>6.153846</td>\n",
       "    </tr>\n",
       "    <tr>\n",
       "      <th>Musical</th>\n",
       "      <td>0.0</td>\n",
       "      <td>0.0</td>\n",
       "      <td>0.0</td>\n",
       "      <td>0.0</td>\n",
       "      <td>0.0</td>\n",
       "      <td>0.0</td>\n",
       "      <td>25.0</td>\n",
       "      <td>25.0</td>\n",
       "      <td>0.0</td>\n",
       "      <td>75.0</td>\n",
       "      <td>...</td>\n",
       "      <td>0.000000</td>\n",
       "      <td>0.000000</td>\n",
       "      <td>9.090909</td>\n",
       "      <td>2.702703</td>\n",
       "      <td>1.587302</td>\n",
       "      <td>0.934579</td>\n",
       "      <td>1.369863</td>\n",
       "      <td>2.535211</td>\n",
       "      <td>1.748252</td>\n",
       "      <td>1.538462</td>\n",
       "    </tr>\n",
       "    <tr>\n",
       "      <th>Mystery</th>\n",
       "      <td>0.0</td>\n",
       "      <td>0.0</td>\n",
       "      <td>0.0</td>\n",
       "      <td>0.0</td>\n",
       "      <td>0.0</td>\n",
       "      <td>0.0</td>\n",
       "      <td>25.0</td>\n",
       "      <td>0.0</td>\n",
       "      <td>0.0</td>\n",
       "      <td>0.0</td>\n",
       "      <td>...</td>\n",
       "      <td>0.000000</td>\n",
       "      <td>0.000000</td>\n",
       "      <td>0.000000</td>\n",
       "      <td>2.702703</td>\n",
       "      <td>4.761905</td>\n",
       "      <td>0.934579</td>\n",
       "      <td>2.283105</td>\n",
       "      <td>1.690141</td>\n",
       "      <td>6.293706</td>\n",
       "      <td>4.615385</td>\n",
       "    </tr>\n",
       "    <tr>\n",
       "      <th>Romance</th>\n",
       "      <td>0.0</td>\n",
       "      <td>0.0</td>\n",
       "      <td>0.0</td>\n",
       "      <td>0.0</td>\n",
       "      <td>100.0</td>\n",
       "      <td>50.0</td>\n",
       "      <td>25.0</td>\n",
       "      <td>25.0</td>\n",
       "      <td>0.0</td>\n",
       "      <td>50.0</td>\n",
       "      <td>...</td>\n",
       "      <td>6.666667</td>\n",
       "      <td>16.666667</td>\n",
       "      <td>0.000000</td>\n",
       "      <td>18.918919</td>\n",
       "      <td>12.698413</td>\n",
       "      <td>16.355140</td>\n",
       "      <td>16.894977</td>\n",
       "      <td>10.704225</td>\n",
       "      <td>17.832168</td>\n",
       "      <td>16.923077</td>\n",
       "    </tr>\n",
       "    <tr>\n",
       "      <th>Sci-Fi</th>\n",
       "      <td>0.0</td>\n",
       "      <td>0.0</td>\n",
       "      <td>0.0</td>\n",
       "      <td>0.0</td>\n",
       "      <td>0.0</td>\n",
       "      <td>0.0</td>\n",
       "      <td>0.0</td>\n",
       "      <td>0.0</td>\n",
       "      <td>0.0</td>\n",
       "      <td>0.0</td>\n",
       "      <td>...</td>\n",
       "      <td>13.333333</td>\n",
       "      <td>0.000000</td>\n",
       "      <td>18.181818</td>\n",
       "      <td>8.108108</td>\n",
       "      <td>6.349206</td>\n",
       "      <td>3.271028</td>\n",
       "      <td>6.849315</td>\n",
       "      <td>4.225352</td>\n",
       "      <td>4.545455</td>\n",
       "      <td>7.692308</td>\n",
       "    </tr>\n",
       "    <tr>\n",
       "      <th>Thriller</th>\n",
       "      <td>0.0</td>\n",
       "      <td>0.0</td>\n",
       "      <td>0.0</td>\n",
       "      <td>100.0</td>\n",
       "      <td>0.0</td>\n",
       "      <td>0.0</td>\n",
       "      <td>0.0</td>\n",
       "      <td>25.0</td>\n",
       "      <td>0.0</td>\n",
       "      <td>0.0</td>\n",
       "      <td>...</td>\n",
       "      <td>13.333333</td>\n",
       "      <td>16.666667</td>\n",
       "      <td>13.636364</td>\n",
       "      <td>13.513514</td>\n",
       "      <td>13.492063</td>\n",
       "      <td>11.682243</td>\n",
       "      <td>17.808219</td>\n",
       "      <td>13.239437</td>\n",
       "      <td>18.881119</td>\n",
       "      <td>27.692308</td>\n",
       "    </tr>\n",
       "    <tr>\n",
       "      <th>War</th>\n",
       "      <td>0.0</td>\n",
       "      <td>0.0</td>\n",
       "      <td>0.0</td>\n",
       "      <td>0.0</td>\n",
       "      <td>100.0</td>\n",
       "      <td>50.0</td>\n",
       "      <td>0.0</td>\n",
       "      <td>0.0</td>\n",
       "      <td>0.0</td>\n",
       "      <td>0.0</td>\n",
       "      <td>...</td>\n",
       "      <td>13.333333</td>\n",
       "      <td>0.000000</td>\n",
       "      <td>4.545455</td>\n",
       "      <td>5.405405</td>\n",
       "      <td>3.174603</td>\n",
       "      <td>3.271028</td>\n",
       "      <td>2.283105</td>\n",
       "      <td>2.535211</td>\n",
       "      <td>4.895105</td>\n",
       "      <td>0.000000</td>\n",
       "    </tr>\n",
       "    <tr>\n",
       "      <th>Western</th>\n",
       "      <td>0.0</td>\n",
       "      <td>0.0</td>\n",
       "      <td>0.0</td>\n",
       "      <td>0.0</td>\n",
       "      <td>0.0</td>\n",
       "      <td>0.0</td>\n",
       "      <td>0.0</td>\n",
       "      <td>0.0</td>\n",
       "      <td>0.0</td>\n",
       "      <td>0.0</td>\n",
       "      <td>...</td>\n",
       "      <td>0.000000</td>\n",
       "      <td>8.333333</td>\n",
       "      <td>0.000000</td>\n",
       "      <td>2.702703</td>\n",
       "      <td>1.587302</td>\n",
       "      <td>2.803738</td>\n",
       "      <td>0.913242</td>\n",
       "      <td>0.563380</td>\n",
       "      <td>0.000000</td>\n",
       "      <td>0.000000</td>\n",
       "    </tr>\n",
       "  </tbody>\n",
       "</table>\n",
       "<p>18 rows × 71 columns</p>\n",
       "</div>"
      ],
      "text/plain": [
       "Release Year   1922   1926   1930   1931   1932  1933  1934  1935  1936  1937  \\\n",
       "Action          0.0    0.0    0.0    0.0    0.0   0.0   0.0   0.0   0.0   0.0   \n",
       "Adventure       0.0    0.0    0.0    0.0    0.0   0.0   0.0   0.0   0.0   0.0   \n",
       "Animation       0.0    0.0    0.0    0.0    0.0   0.0   0.0   0.0   0.0  25.0   \n",
       "Childrens       0.0    0.0    0.0    0.0    0.0   0.0   0.0   0.0   0.0  25.0   \n",
       "Comedy          0.0    0.0    0.0    0.0    0.0  50.0  50.0  50.0  50.0  50.0   \n",
       "Crime           0.0    0.0    0.0  100.0    0.0   0.0   0.0   0.0   0.0   0.0   \n",
       "Documentary     0.0    0.0    0.0    0.0    0.0   0.0   0.0   0.0   0.0   0.0   \n",
       "Drama           0.0  100.0  100.0    0.0    0.0   0.0  25.0   0.0  50.0  25.0   \n",
       "Fantasy         0.0    0.0    0.0    0.0    0.0   0.0   0.0   0.0   0.0   0.0   \n",
       "Film-Noir       0.0    0.0    0.0  100.0    0.0   0.0   0.0   0.0   0.0   0.0   \n",
       "Horror        100.0    0.0    0.0    0.0    0.0   0.0   0.0  25.0   0.0   0.0   \n",
       "Musical         0.0    0.0    0.0    0.0    0.0   0.0  25.0  25.0   0.0  75.0   \n",
       "Mystery         0.0    0.0    0.0    0.0    0.0   0.0  25.0   0.0   0.0   0.0   \n",
       "Romance         0.0    0.0    0.0    0.0  100.0  50.0  25.0  25.0   0.0  50.0   \n",
       "Sci-Fi          0.0    0.0    0.0    0.0    0.0   0.0   0.0   0.0   0.0   0.0   \n",
       "Thriller        0.0    0.0    0.0  100.0    0.0   0.0   0.0  25.0   0.0   0.0   \n",
       "War             0.0    0.0    0.0    0.0  100.0  50.0   0.0   0.0   0.0   0.0   \n",
       "Western         0.0    0.0    0.0    0.0    0.0   0.0   0.0   0.0   0.0   0.0   \n",
       "\n",
       "Release Year  ...       1989       1990       1991       1992       1993  \\\n",
       "Action        ...  40.000000  29.166667   9.090909  21.621622  15.873016   \n",
       "Adventure     ...  26.666667   4.166667   4.545455   2.702703   7.142857   \n",
       "Animation     ...   0.000000   0.000000   4.545455   5.405405   0.793651   \n",
       "Childrens     ...   0.000000   4.166667   4.545455   2.702703   4.761905   \n",
       "Comedy        ...  20.000000  25.000000  27.272727  32.432432  30.952381   \n",
       "Crime         ...   6.666667  12.500000   0.000000  13.513514   5.555556   \n",
       "Documentary   ...   0.000000   8.333333   4.545455   0.000000   3.174603   \n",
       "Drama         ...  53.333333  50.000000  50.000000  37.837838  50.793651   \n",
       "Fantasy       ...   0.000000   0.000000   4.545455   0.000000   0.000000   \n",
       "Film-Noir     ...   0.000000   4.166667   0.000000   0.000000   0.793651   \n",
       "Horror        ...   0.000000   4.166667   4.545455  16.216216   3.968254   \n",
       "Musical       ...   0.000000   0.000000   9.090909   2.702703   1.587302   \n",
       "Mystery       ...   0.000000   0.000000   0.000000   2.702703   4.761905   \n",
       "Romance       ...   6.666667  16.666667   0.000000  18.918919  12.698413   \n",
       "Sci-Fi        ...  13.333333   0.000000  18.181818   8.108108   6.349206   \n",
       "Thriller      ...  13.333333  16.666667  13.636364  13.513514  13.492063   \n",
       "War           ...  13.333333   0.000000   4.545455   5.405405   3.174603   \n",
       "Western       ...   0.000000   8.333333   0.000000   2.702703   1.587302   \n",
       "\n",
       "Release Year       1994       1995       1996       1997       1998  \n",
       "Action        14.018692  18.264840  12.394366  16.083916  18.461538  \n",
       "Adventure      6.074766  10.045662   6.760563   6.993007   4.615385  \n",
       "Animation      1.869159   2.739726   2.535211   1.048951   0.000000  \n",
       "Childrens      7.009346   9.589041   5.915493   7.692308   1.538462  \n",
       "Comedy        38.317757  28.767123  30.422535  30.419580  20.000000  \n",
       "Crime          3.738318   5.022831   5.915493  10.489510  10.769231  \n",
       "Documentary    4.205607   2.283105   5.070423   2.097902   4.615385  \n",
       "Drama         45.327103  40.639269  47.887324  39.510490  50.769231  \n",
       "Fantasy        1.401869   1.369863   1.690141   1.398601   1.538462  \n",
       "Film-Noir      0.000000   0.456621   0.281690   0.699301   3.076923  \n",
       "Horror         3.738318   6.392694   3.098592   2.797203   6.153846  \n",
       "Musical        0.934579   1.369863   2.535211   1.748252   1.538462  \n",
       "Mystery        0.934579   2.283105   1.690141   6.293706   4.615385  \n",
       "Romance       16.355140  16.894977  10.704225  17.832168  16.923077  \n",
       "Sci-Fi         3.271028   6.849315   4.225352   4.545455   7.692308  \n",
       "Thriller      11.682243  17.808219  13.239437  18.881119  27.692308  \n",
       "War            3.271028   2.283105   2.535211   4.895105   0.000000  \n",
       "Western        2.803738   0.913242   0.563380   0.000000   0.000000  \n",
       "\n",
       "[18 rows x 71 columns]"
      ]
     },
     "execution_count": 18,
     "metadata": {},
     "output_type": "execute_result"
    }
   ],
   "source": [
    "#use division to divide each value in a dataset by total movies and take percentage\n",
    "df2=(df_releaseyr.div(df_releaseyr['Total'], axis= 0) * 100).drop('Total',axis=1).T\n",
    "df2"
   ]
  },
  {
   "cell_type": "code",
   "execution_count": 19,
   "metadata": {},
   "outputs": [
    {
     "data": {
      "text/plain": [
       "[]"
      ]
     },
     "execution_count": 19,
     "metadata": {},
     "output_type": "execute_result"
    },
    {
     "data": {
      "image/png": "[encoded data removed]",
      "text/plain": [
       "<Figure size 1440x720 with 2 Axes>"
      ]
     },
     "metadata": {},
     "output_type": "display_data"
    }
   ],
   "source": [
    "#use heatmap for visualization\n",
    "ax=sns.heatmap(df2,  cmap='Accent');\n",
    "#set figure size\n",
    "plt.rcParams[\"figure.figsize\"] = (25, 15)\n",
    "#plot the heatmap\n",
    "plt.plot()"
   ]
  },
  {
   "cell_type": "markdown",
   "metadata": {},
   "source": [
    "**Insights:**\n",
    "- Documentary only appeared once in 1983 over 71 years\n",
    "- Drama and comedy are the most popular genres over years\n",
    "- Western, Fantasy, Film-Noir and children were not released after late 1970's\n"
   ]
  },
  {
   "cell_type": "markdown",
   "metadata": {},
   "source": [
    "### 9. Find the top 25 movies in terms of average ratings for movies that have been rated more than 100 times - 10 marks\n",
    "\n",
    "Hints : \n",
    "\n",
    "1. Find the count of ratings and average ratings for every movie.\n",
    "2. Slice the movies which have ratings more than 100.\n",
    "3. Sort values according to average rating such that movie which highest rating is on top.\n",
    "4. Select top 25 movies.\n",
    "5. You will have to use the .merge() function to get the movie titles.\n",
    "\n",
    "Note: This question will need you to research about groupby and apply your findings. You can find more on groupby on https://realpython.com/pandas-groupby/."
   ]
  },
  {
   "cell_type": "code",
   "execution_count": 20,
   "metadata": {},
   "outputs": [
    {
     "data": {
      "text/plain": [
       "movie id\n",
       "1       452\n",
       "2       131\n",
       "3        90\n",
       "4       209\n",
       "5        86\n",
       "       ... \n",
       "1678      1\n",
       "1679      1\n",
       "1680      1\n",
       "1681      1\n",
       "1682      1\n",
       "Name: rating, Length: 1682, dtype: int64"
      ]
     },
     "execution_count": 20,
     "metadata": {},
     "output_type": "execute_result"
    }
   ],
   "source": [
    "#count of ratings for every movie\n",
    "rating.groupby(\"movie id\")[\"rating\"].count()"
   ]
  },
  {
   "cell_type": "code",
   "execution_count": 21,
   "metadata": {},
   "outputs": [
    {
     "data": {
      "text/plain": [
       "movie id\n",
       "1       3.878319\n",
       "2       3.206107\n",
       "3       3.033333\n",
       "4       3.550239\n",
       "5       3.302326\n",
       "          ...   \n",
       "1678    1.000000\n",
       "1679    3.000000\n",
       "1680    2.000000\n",
       "1681    3.000000\n",
       "1682    3.000000\n",
       "Name: rating, Length: 1682, dtype: float64"
      ]
     },
     "execution_count": 21,
     "metadata": {},
     "output_type": "execute_result"
    }
   ],
   "source": [
    "#average ratings for every movie\n",
    "rating.groupby(\"movie id\")[\"rating\"].mean()"
   ]
  },
  {
   "cell_type": "code",
   "execution_count": 22,
   "metadata": {},
   "outputs": [
    {
     "name": "stdout",
     "output_type": "stream",
     "text": [
      "              mean  count\n",
      "movie id                 \n",
      "1         3.878319    452\n",
      "2         3.206107    131\n",
      "3         3.033333     90\n",
      "4         3.550239    209\n",
      "5         3.302326     86\n",
      "...            ...    ...\n",
      "1678      1.000000      1\n",
      "1679      3.000000      1\n",
      "1680      2.000000      1\n",
      "1681      3.000000      1\n",
      "1682      3.000000      1\n",
      "\n",
      "[1682 rows x 2 columns]\n"
     ]
    }
   ],
   "source": [
    "ag_rating = rating.groupby(\"movie id\")[\"rating\"].agg(['mean','count'])\n",
    "print(ag_rating)"
   ]
  },
  {
   "cell_type": "code",
   "execution_count": 23,
   "metadata": {},
   "outputs": [
    {
     "data": {
      "text/html": [
       "<div>\n",
       "<style scoped>\n",
       "    .dataframe tbody tr th:only-of-type {\n",
       "        vertical-align: middle;\n",
       "    }\n",
       "\n",
       "    .dataframe tbody tr th {\n",
       "        vertical-align: top;\n",
       "    }\n",
       "\n",
       "    .dataframe thead th {\n",
       "        text-align: right;\n",
       "    }\n",
       "</style>\n",
       "<table border=\"1\" class=\"dataframe\">\n",
       "  <thead>\n",
       "    <tr style=\"text-align: right;\">\n",
       "      <th></th>\n",
       "      <th>user id</th>\n",
       "      <th>movie id</th>\n",
       "      <th>rating</th>\n",
       "      <th>timestamp</th>\n",
       "    </tr>\n",
       "  </thead>\n",
       "  <tbody>\n",
       "    <tr>\n",
       "      <th>0</th>\n",
       "      <td>196</td>\n",
       "      <td>242</td>\n",
       "      <td>3</td>\n",
       "      <td>881250949</td>\n",
       "    </tr>\n",
       "    <tr>\n",
       "      <th>1</th>\n",
       "      <td>186</td>\n",
       "      <td>302</td>\n",
       "      <td>3</td>\n",
       "      <td>891717742</td>\n",
       "    </tr>\n",
       "    <tr>\n",
       "      <th>4</th>\n",
       "      <td>166</td>\n",
       "      <td>346</td>\n",
       "      <td>1</td>\n",
       "      <td>886397596</td>\n",
       "    </tr>\n",
       "    <tr>\n",
       "      <th>5</th>\n",
       "      <td>298</td>\n",
       "      <td>474</td>\n",
       "      <td>4</td>\n",
       "      <td>884182806</td>\n",
       "    </tr>\n",
       "    <tr>\n",
       "      <th>6</th>\n",
       "      <td>115</td>\n",
       "      <td>265</td>\n",
       "      <td>2</td>\n",
       "      <td>881171488</td>\n",
       "    </tr>\n",
       "    <tr>\n",
       "      <th>...</th>\n",
       "      <td>...</td>\n",
       "      <td>...</td>\n",
       "      <td>...</td>\n",
       "      <td>...</td>\n",
       "    </tr>\n",
       "    <tr>\n",
       "      <th>99993</th>\n",
       "      <td>913</td>\n",
       "      <td>209</td>\n",
       "      <td>2</td>\n",
       "      <td>881367150</td>\n",
       "    </tr>\n",
       "    <tr>\n",
       "      <th>99995</th>\n",
       "      <td>880</td>\n",
       "      <td>476</td>\n",
       "      <td>3</td>\n",
       "      <td>880175444</td>\n",
       "    </tr>\n",
       "    <tr>\n",
       "      <th>99996</th>\n",
       "      <td>716</td>\n",
       "      <td>204</td>\n",
       "      <td>5</td>\n",
       "      <td>879795543</td>\n",
       "    </tr>\n",
       "    <tr>\n",
       "      <th>99998</th>\n",
       "      <td>13</td>\n",
       "      <td>225</td>\n",
       "      <td>2</td>\n",
       "      <td>882399156</td>\n",
       "    </tr>\n",
       "    <tr>\n",
       "      <th>99999</th>\n",
       "      <td>12</td>\n",
       "      <td>203</td>\n",
       "      <td>3</td>\n",
       "      <td>879959583</td>\n",
       "    </tr>\n",
       "  </tbody>\n",
       "</table>\n",
       "<p>64419 rows × 4 columns</p>\n",
       "</div>"
      ],
      "text/plain": [
       "       user id  movie id  rating  timestamp\n",
       "0          196       242       3  881250949\n",
       "1          186       302       3  891717742\n",
       "4          166       346       1  886397596\n",
       "5          298       474       4  884182806\n",
       "6          115       265       2  881171488\n",
       "...        ...       ...     ...        ...\n",
       "99993      913       209       2  881367150\n",
       "99995      880       476       3  880175444\n",
       "99996      716       204       5  879795543\n",
       "99998       13       225       2  882399156\n",
       "99999       12       203       3  879959583\n",
       "\n",
       "[64419 rows x 4 columns]"
      ]
     },
     "execution_count": 23,
     "metadata": {},
     "output_type": "execute_result"
    }
   ],
   "source": [
    "#check for movie which has rating more than 100\n",
    "rating.groupby('movie id').filter(lambda x: x['rating'].count() > 100)"
   ]
  },
  {
   "cell_type": "code",
   "execution_count": 24,
   "metadata": {},
   "outputs": [],
   "source": [
    "#create a dataframe with rating more than 100 for a movie\n",
    "df_new = rating[rating.groupby('movie id')['rating'].transform('count') > 100]\n"
   ]
  },
  {
   "cell_type": "code",
   "execution_count": 25,
   "metadata": {},
   "outputs": [],
   "source": [
    "#Merge dataframe with movie to get the title and assign it to new df \n",
    "df3 = df_new.merge(movie, left_on='movie id', right_on='movie id')"
   ]
  },
  {
   "cell_type": "code",
   "execution_count": 26,
   "metadata": {},
   "outputs": [],
   "source": [
    "#create a group that has average of rating\n",
    "df_by_mean = df3.groupby(['movie id','movie title'])['rating'].agg(['mean','count'])\n"
   ]
  },
  {
   "cell_type": "code",
   "execution_count": 27,
   "metadata": {},
   "outputs": [
    {
     "name": "stdout",
     "output_type": "stream",
     "text": [
      "                                                                 mean  count\n",
      "movie id movie title                                                        \n",
      "408      Close Shave, A                                      4.491071    112\n",
      "318      Schindler's List                                    4.466443    298\n",
      "169      Wrong Trousers, The                                 4.466102    118\n",
      "483      Casablanca                                          4.456790    243\n",
      "64       Shawshank Redemption, The                           4.445230    283\n",
      "603      Rear Window                                         4.387560    209\n",
      "12       Usual Suspects, The                                 4.385768    267\n",
      "50       Star Wars                                           4.358491    583\n",
      "178      12 Angry Men                                        4.344000    125\n",
      "134      Citizen Kane                                        4.292929    198\n",
      "427      To Kill a Mockingbird                               4.292237    219\n",
      "357      One Flew Over the Cuckoo's Nest                     4.291667    264\n",
      "98       Silence of the Lambs, The                           4.289744    390\n",
      "480      North by Northwest                                  4.284916    179\n",
      "127      Godfather, The                                      4.283293    413\n",
      "285      Secrets & Lies                                      4.265432    162\n",
      "272      Good Will Hunting                                   4.262626    198\n",
      "657      Manchurian Candidate, The                           4.259542    131\n",
      "474      Dr. Strangelove or: How I Learned to Stop Worry...  4.252577    194\n",
      "174      Raiders of the Lost Ark                             4.252381    420\n",
      "479      Vertigo                                             4.251397    179\n",
      "313      Titanic                                             4.245714    350\n",
      "511      Lawrence of Arabia                                  4.231214    173\n",
      "484      Maltese Falcon, The                                 4.210145    138\n",
      "172      Empire Strikes Back, The                            4.204360    367\n"
     ]
    }
   ],
   "source": [
    "#display the top 25 movie by average value\n",
    "print (df_by_mean.sort_values(by='mean',ascending=False).head(25))\n"
   ]
  },
  {
   "cell_type": "markdown",
   "metadata": {},
   "source": [
    "### 10. Check for the validity of the below statements with respect to the data provided - 10 marks\n",
    "\n",
    "* Men watch more drama than women\n",
    "* Women watch more Sci-Fi than men\n",
    "* Men watch more Romance than women\n",
    "\n",
    "**compare the percentages**\n",
    "\n",
    "**Please pay attention to what should be the denominator while calculating percentages**"
   ]
  },
  {
   "cell_type": "markdown",
   "metadata": {},
   "source": [
    "1. Merge all the datasets\n",
    "\n",
    "2. There is no need to conduct statistical tests around this. Just **compare the percentages** and comment on the validity of the above statements.\n",
    "\n",
    "3. you might want ot use the .sum(), .div() function here.\n",
    "\n",
    "4. Use number of ratings to validate the numbers. For example, if out of 4000 ratings received by women, 3000 are for drama, we will assume that 75% of the women watch drama."
   ]
  },
  {
   "cell_type": "code",
   "execution_count": 28,
   "metadata": {},
   "outputs": [],
   "source": [
    "#Merge all three data set\n",
    "all_data= user.merge(rating,on='user id').merge(movie,on='movie id')"
   ]
  },
  {
   "cell_type": "code",
   "execution_count": 29,
   "metadata": {},
   "outputs": [
    {
     "name": "stdout",
     "output_type": "stream",
     "text": [
      "1680\n",
      "1682\n",
      "943\n"
     ]
    }
   ],
   "source": [
    "#find nunique to get the total records \n",
    "print(movie['movie id'].nunique()) #1681\n",
    "print(rating['movie id'].nunique()) #1682\n",
    "print(rating['user id'].nunique()) #943"
   ]
  },
  {
   "cell_type": "code",
   "execution_count": 30,
   "metadata": {},
   "outputs": [],
   "source": [
    "#Filter dataframe where gender is female\n",
    "sub_Female_rating=all_data[all_data[\"gender\"] =='F']\n",
    "#get the count of rating given by female user\n",
    "total_female_rating=sub_Female_rating['rating'].count()"
   ]
  },
  {
   "cell_type": "code",
   "execution_count": 31,
   "metadata": {},
   "outputs": [],
   "source": [
    "#Filter dataframe where gender is male\n",
    "sub_Male_rating=all_data[all_data[\"gender\"] =='M']\n",
    "#get the count of rating given by male user\n",
    "total_male_rating=sub_Male_rating['rating'].count()"
   ]
  },
  {
   "cell_type": "code",
   "execution_count": 32,
   "metadata": {},
   "outputs": [
    {
     "name": "stdout",
     "output_type": "stream",
     "text": [
      " % Men watching drama 39\n",
      " % Women watching drama 43\n",
      "Men watch more drama than women : False \n"
     ]
    }
   ],
   "source": [
    "#get the count of rating given by female user for Drama\n",
    "female_drama_rating=sub_Female_rating.groupby('Drama')['rating'].count()[1]\n",
    "#get the count of rating given by male user for Drama\n",
    "male_drama_rating=sub_Male_rating.groupby('Drama')['rating'].count()[1]\n",
    "#print the number of men watching drama based on the rating given\n",
    "print(f' % Men watching drama {(male_drama_rating/total_male_rating)*100:.0f}')\n",
    "#print the number of women watching drama based on the rating given\n",
    "print(f' % Women watching drama {(female_drama_rating/total_female_rating)*100 :.0f}')\n",
    "#validate the statement 'Men watch more drama than women'\n",
    "print(f'Men watch more drama than women : {(female_drama_rating/total_female_rating)*100 < (male_drama_rating/total_male_rating)*100} ')\n",
    "#.apply(np.ceil)"
   ]
  },
  {
   "cell_type": "code",
   "execution_count": 33,
   "metadata": {},
   "outputs": [
    {
     "name": "stdout",
     "output_type": "stream",
     "text": [
      " % Men watching scifi 14\n",
      " % Women watching scifi 10\n",
      "Women watch more Sci-Fi than men : False \n"
     ]
    }
   ],
   "source": [
    "#get the count of rating given by female user for Sci-Fi\n",
    "female_scifi_rating=sub_Female_rating.groupby('Sci-Fi')['rating'].count()[1]\n",
    "#get the count of rating given by male user for Sci-Fi\n",
    "male_scifi_rating=sub_Male_rating.groupby('Sci-Fi')['rating'].count()[1]\n",
    "#print the number of men watching Sci-Fi based on the rating given\n",
    "print(f' % Men watching scifi {(male_scifi_rating/total_male_rating)*100:.0f}')\n",
    "#print the number of women watching Sci-Fi based on the rating given\n",
    "print(f' % Women watching scifi {(female_scifi_rating/total_female_rating)*100:.0f}')\n",
    "#validate the statement 'Women watch more Sci-Fi than men'\n",
    "print(f'Women watch more Sci-Fi than men : {(female_scifi_rating/total_female_rating)*100 > (male_scifi_rating/total_male_rating)*100} ')"
   ]
  },
  {
   "cell_type": "code",
   "execution_count": 34,
   "metadata": {},
   "outputs": [
    {
     "name": "stdout",
     "output_type": "stream",
     "text": [
      " % Men watching Romance 18\n",
      " % Women watching Romance 23\n",
      "Men watch more Romance than women : False \n"
     ]
    }
   ],
   "source": [
    "#get the count of rating given by female user for Romance\n",
    "female_Romance_rating=sub_Female_rating.groupby('Romance')['rating'].count()[1]\n",
    "#get the count of rating given by male user for Romance\n",
    "male_Romance_rating=sub_Male_rating.groupby('Romance')['rating'].count()[1]\n",
    "#print the number of men watching Romance based on the rating given\n",
    "print(f' % Men watching Romance {(male_Romance_rating/total_male_rating)*100:.0f}')\n",
    "#print the number of women watching Romance based on the rating given\n",
    "print(f' % Women watching Romance {(female_Romance_rating/total_female_rating)*100:.0f}')\n",
    "#validate the statement 'Men watch more Romance than women'\n",
    "print(f'Men watch more Romance than women : {(female_Romance_rating/total_female_rating)*100 < (male_Romance_rating/total_male_rating)*100} ')"
   ]
  },
  {
   "cell_type": "markdown",
   "metadata": {},
   "source": [
    "**Conclusion:**\n",
    "    \n",
    "- % of Men watching drama is 39% and % of Women watching drama is 43% hence Men watch more drama than women is False \n",
    "- % of Men watching scifi is 14% and % of Women watching scifi is 10% hence Women watch more Sci-Fi than men is False \n",
    "- % of Men watching Romance is 18% and % of Women watching Romance is 23% hence Men watch more Romance than women is False"
   ]
  }
 ],
 "metadata": {
  "kernelspec": {
   "display_name": "Python 3",
   "language": "python",
   "name": "python3"
  },
  "language_info": {
   "codemirror_mode": {
    "name": "ipython",
    "version": 3
   },
   "file_extension": ".py",
   "mimetype": "text/x-python",
   "name": "python",
   "nbconvert_exporter": "python",
   "pygments_lexer": "ipython3",
   "version": "3.8.5"
  }
 },
 "nbformat": 4,
 "nbformat_minor": 2
}
