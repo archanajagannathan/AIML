{
 "cells": [
  {
   "cell_type": "code",
   "execution_count": 1,
   "metadata": {},
   "outputs": [
    {
     "name": "stdout",
     "output_type": "stream",
     "text": [
      "8\n",
      "5 times a is  20 3 multiplied by a is  12\n"
     ]
    }
   ],
   "source": [
    "a=4\n",
    "b=4\n",
    "print(a+b)\n",
    "#can edit, rearrange drag and drop any cell and use shift enter to run the code\n",
    "#To change between code and markdown use y and m letter in the keyboard \n",
    "#Append Hash in front to have header. Two hash and space title will be sub header\n",
    "# Header1\n",
    "## Header2\n",
    "print('5 times a is ',a*5,'3 multiplied by a is ', 3*a)\n"
   ]
  },
  {
   "cell_type": "code",
   "execution_count": 2,
   "metadata": {},
   "outputs": [
    {
     "name": "stdout",
     "output_type": "stream",
     "text": [
      "type of c is  <class 'int'>\n",
      "type of d is  <class 'float'>\n",
      "type of e is  <class 'float'> and value of e is  1.3043478260869565\n",
      "type of f is  <class 'float'> and value of e is  1.3043478260869565\n"
     ]
    }
   ],
   "source": [
    "c=3\n",
    "print('type of c is ',type(c))\n",
    "d=2.3\n",
    "print('type of d is ',type(d))\n",
    "e=float(c)/d\n",
    "print('type of e is ',type(e),'and value of e is ',e)\n",
    "f=c/d\n",
    "print('type of f is ',type(f),'and value of e is ',f)\n"
   ]
  },
  {
   "cell_type": "code",
   "execution_count": 3,
   "metadata": {},
   "outputs": [
    {
     "name": "stdout",
     "output_type": "stream",
     "text": [
      "['Archu', 2, 3, 'python', 2.1, 2]\n",
      "Archu\n",
      "2\n",
      "python\n",
      "2\n",
      "2.1\n",
      "6\n"
     ]
    }
   ],
   "source": [
    "simple_list= [\"Archu\",2,3,\"python\",2.1,2]\n",
    "print(simple_list)\n",
    "print(simple_list[0])\n",
    "print(simple_list[1])\n",
    "print(simple_list[3])\n",
    "print(simple_list[-1])\n",
    "print(simple_list[-2])\n",
    "print(len(simple_list))"
   ]
  },
  {
   "cell_type": "code",
   "execution_count": 4,
   "metadata": {},
   "outputs": [
    {
     "name": "stdout",
     "output_type": "stream",
     "text": [
      "['Archu', 2, 3, 'python', 2.1, 2]\n",
      "52\n",
      "['Archu', 2, 3, 52, 2.1, 2, 'to the back']\n",
      "7\n",
      "['Archu', 2, 3, 52, 2, 'to the back']\n"
     ]
    }
   ],
   "source": [
    "# it is easy to change entries of a list\n",
    "print(simple_list)\n",
    "simple_list[3] = 52 #replace 3rd element with 52 ie python with 52\n",
    "print(simple_list[3]) # index is based on 0!!!\n",
    "simple_list.append('to the back')#add on the last location\n",
    "print(simple_list)\n",
    "print(len(simple_list))\n",
    "simple_list.pop(4)# takes out 4th element from the list that is 2.1\n",
    "print(simple_list)"
   ]
  },
  {
   "cell_type": "code",
   "execution_count": 5,
   "metadata": {},
   "outputs": [
    {
     "name": "stdout",
     "output_type": "stream",
     "text": [
      "[5, 5, 5, 5]\n",
      "['archu', 'archu']\n"
     ]
    }
   ],
   "source": [
    "# it is easy to initialize a list of a particular size with all entries the same\n",
    "repeated_list = [5]*4\n",
    "print(repeated_list)\n",
    "new_list =['archu']*2 #the square bracket is to create list of items and * basically multiplies the number with the list\n",
    "print(new_list)"
   ]
  },
  {
   "cell_type": "code",
   "execution_count": 6,
   "metadata": {},
   "outputs": [
    {
     "name": "stdout",
     "output_type": "stream",
     "text": [
      "['Archu', [1, 2, 3], 3, 52, 2, 'to the back']\n",
      "[1, 2, 3]\n",
      "2\n"
     ]
    }
   ],
   "source": [
    "# we can even use lists as entries of a list\n",
    "simple_list[1] = [1,2,3] #assigning list within the previous list. this will replace 2 to  [1,2,3]\n",
    "print(simple_list)\n",
    "print(simple_list[1])\n",
    "print(simple_list[1][1])#retrieve list of list with [][]"
   ]
  },
  {
   "cell_type": "code",
   "execution_count": 7,
   "metadata": {},
   "outputs": [
    {
     "name": "stdout",
     "output_type": "stream",
     "text": [
      "['Archu', [1, 2, 3], 3, 52, 2, 'to the back']\n",
      "['Archu', [1, 2, 3], 3, 52, 2, 'to the back']\n",
      "['Archu', 0, 3, 52, 2, 'to the back']\n",
      "['Archu', 0, 3, 52, 2, 'to the back']\n"
     ]
    }
   ],
   "source": [
    "# copying lists is a little tricky\n",
    "list2 = simple_list\n",
    "print(list2)\n",
    "print(simple_list)\n",
    "list2[1] = 0 #you only change the value of index 1 in list2 but it changes the original list too. \n",
    "#you need to remember this\n",
    "print(list2)\n",
    "print(simple_list)"
   ]
  },
  {
   "cell_type": "code",
   "execution_count": 8,
   "metadata": {},
   "outputs": [
    {
     "name": "stdout",
     "output_type": "stream",
     "text": [
      "['Archu', 0, 3, 52, 2, 'to the back']\n",
      "['Archu', 0, 3, 52, 2, 'to the back']\n",
      "['Mitchell', 0, 3, 52, 2, 'to the back']\n",
      "['Archu', 0, 3, 52, 2, 'to the back']\n"
     ]
    }
   ],
   "source": [
    "# we must use the copy method to prevent this behavior\n",
    "list3 = simple_list.copy()\n",
    "print(list3)\n",
    "print(simple_list)\n",
    "list3[0] = 'Mitchell' #though we change the value in list3 the original list will not change using copy method\n",
    "print(list3)\n",
    "print(simple_list)"
   ]
  },
  {
   "cell_type": "code",
   "execution_count": 9,
   "metadata": {},
   "outputs": [
    {
     "name": "stdout",
     "output_type": "stream",
     "text": [
      "(12, 42, 11, 99, 2351)\n",
      "42\n"
     ]
    }
   ],
   "source": [
    "# a tuple is an ordered collection of values that are unchangeable and allows duplicates\n",
    "simple_tuple = (12,42,11,99,2351)\n",
    "print(simple_tuple)\n",
    "print(simple_tuple[1])"
   ]
  },
  {
   "cell_type": "code",
   "execution_count": 10,
   "metadata": {},
   "outputs": [
    {
     "ename": "TypeError",
     "evalue": "'tuple' object does not support item assignment",
     "output_type": "error",
     "traceback": [
      "\u001b[1;31m---------------------------------------------------------------------------\u001b[0m",
      "\u001b[1;31mTypeError\u001b[0m                                 Traceback (most recent call last)",
      "\u001b[1;32m<ipython-input-10-d8431e8d65c6>\u001b[0m in \u001b[0;36m<module>\u001b[1;34m\u001b[0m\n\u001b[0;32m      1\u001b[0m \u001b[1;31m# it is not possible to change entries in a touple\u001b[0m\u001b[1;33m\u001b[0m\u001b[1;33m\u001b[0m\u001b[1;33m\u001b[0m\u001b[0m\n\u001b[1;32m----> 2\u001b[1;33m \u001b[0msimple_tuple\u001b[0m\u001b[1;33m[\u001b[0m\u001b[1;36m0\u001b[0m\u001b[1;33m]\u001b[0m \u001b[1;33m=\u001b[0m \u001b[1;36m5\u001b[0m\u001b[1;33m\u001b[0m\u001b[1;33m\u001b[0m\u001b[0m\n\u001b[0m",
      "\u001b[1;31mTypeError\u001b[0m: 'tuple' object does not support item assignment"
     ]
    }
   ],
   "source": [
    "# it is not possible to change entries in a touple\n",
    "simple_tuple[0] = 5"
   ]
  },
  {
   "cell_type": "code",
   "execution_count": 11,
   "metadata": {},
   "outputs": [
    {
     "name": "stdout",
     "output_type": "stream",
     "text": [
      "(5, 42, 11, 99, 2351)\n"
     ]
    }
   ],
   "source": [
    "# you can work around this though...\n",
    "dummy = list(simple_tuple)\n",
    "dummy[0] = 5\n",
    "simple_tuple = tuple(dummy)\n",
    "print(simple_tuple)"
   ]
  },
  {
   "cell_type": "code",
   "execution_count": 12,
   "metadata": {},
   "outputs": [
    {
     "name": "stdout",
     "output_type": "stream",
     "text": [
      "{11, 'water', -2}\n"
     ]
    }
   ],
   "source": [
    "# a set is an unordered collection of values that are changeable and does not allow duplicates\n",
    "simple_set = {11,-2,'water',-2}\n",
    "print(simple_set)"
   ]
  },
  {
   "cell_type": "code",
   "execution_count": 13,
   "metadata": {},
   "outputs": [
    {
     "ename": "TypeError",
     "evalue": "'set' object is not subscriptable",
     "output_type": "error",
     "traceback": [
      "\u001b[1;31m---------------------------------------------------------------------------\u001b[0m",
      "\u001b[1;31mTypeError\u001b[0m                                 Traceback (most recent call last)",
      "\u001b[1;32m<ipython-input-13-263fc76fcfaa>\u001b[0m in \u001b[0;36m<module>\u001b[1;34m\u001b[0m\n\u001b[1;32m----> 1\u001b[1;33m \u001b[0mprint\u001b[0m\u001b[1;33m(\u001b[0m\u001b[0msimple_set\u001b[0m\u001b[1;33m[\u001b[0m\u001b[1;36m1\u001b[0m\u001b[1;33m]\u001b[0m\u001b[1;33m)\u001b[0m\u001b[1;33m\u001b[0m\u001b[1;33m\u001b[0m\u001b[0m\n\u001b[0m",
      "\u001b[1;31mTypeError\u001b[0m: 'set' object is not subscriptable"
     ]
    }
   ],
   "source": [
    "print(simple_set[1])"
   ]
  },
  {
   "cell_type": "code",
   "execution_count": 14,
   "metadata": {},
   "outputs": [
    {
     "name": "stdout",
     "output_type": "stream",
     "text": [
      "True\n",
      "False\n",
      "True\n"
     ]
    }
   ],
   "source": [
    "print('water' in simple_set)\n",
    "print(1 in simple_set)\n",
    "print(11 in simple_set)"
   ]
  },
  {
   "cell_type": "code",
   "execution_count": 15,
   "metadata": {},
   "outputs": [
    {
     "name": "stdout",
     "output_type": "stream",
     "text": [
      "{72, 11, 'water', -2}\n",
      "{72, 11, -2}\n"
     ]
    }
   ],
   "source": [
    "# you can't change values but you can add and remove entries from a set\n",
    "simple_set.add(72)\n",
    "print(simple_set)\n",
    "simple_set.remove('water')\n",
    "print(simple_set)"
   ]
  },
  {
   "cell_type": "code",
   "execution_count": 16,
   "metadata": {},
   "outputs": [
    {
     "name": "stdout",
     "output_type": "stream",
     "text": [
      "{'brand': 'Apple', 'product': 'iPhone', 'model': 'X'}\n",
      "I bought an iPhone model X from Apple\n"
     ]
    }
   ],
   "source": [
    "# a dictionary is a collection of values that are unordered (but indexed) and changeable\n",
    "simple_dict = {\n",
    "    \"brand\": \"Apple\",\n",
    "    \"product\": \"iPhone\",\n",
    "    \"model\": \"X\"\n",
    "}\n",
    "print(simple_dict)\n",
    "print('I bought an',simple_dict['product'],\"model\",simple_dict['model'],'from',simple_dict['brand'])"
   ]
  },
  {
   "cell_type": "code",
   "execution_count": 17,
   "metadata": {},
   "outputs": [
    {
     "name": "stdout",
     "output_type": "stream",
     "text": [
      "I bought an iPhone model 11 pro from Apple\n"
     ]
    }
   ],
   "source": [
    "simple_dict[\"model\"] = \"11 pro\"\n",
    "print('I bought an',simple_dict['product'],\"model\",simple_dict['model'],'from',simple_dict['brand'])"
   ]
  },
  {
   "cell_type": "code",
   "execution_count": 18,
   "metadata": {},
   "outputs": [
    {
     "name": "stdout",
     "output_type": "stream",
     "text": [
      "I bought a red iPhone model 11 pro from Apple\n"
     ]
    }
   ],
   "source": [
    "# we can also add entries to the dictionary\n",
    "simple_dict['color'] = 'red'\n",
    "print('I bought a',simple_dict[\"color\"],simple_dict['product'],\"model\",simple_dict['model'],'from',simple_dict['brand'])\n"
   ]
  },
  {
   "cell_type": "code",
   "execution_count": 19,
   "metadata": {},
   "outputs": [
    {
     "name": "stdout",
     "output_type": "stream",
     "text": [
      "[2, 7, 3]\n",
      "[2]\n",
      "[7, 3, 66, 1923]\n"
     ]
    }
   ],
   "source": [
    "simple_list = [1,5,2,7,3,66,1923,11]\n",
    "# we can access multiple values in the list using the :\n",
    "# we must be careful though\n",
    "print(simple_list[2:5])\n",
    "# why isn't 66 in the output?\n",
    "# the number to the left of the : is inclusive, but the number to the right is exclusive\n",
    "print(simple_list[2:3])\n",
    "# we can also use negative numbers\n",
    "print(simple_list[-5:-1])"
   ]
  },
  {
   "cell_type": "code",
   "execution_count": null,
   "metadata": {},
   "outputs": [],
   "source": []
  }
 ],
 "metadata": {
  "kernelspec": {
   "display_name": "Python 3",
   "language": "python",
   "name": "python3"
  },
  "language_info": {
   "codemirror_mode": {
    "name": "ipython",
    "version": 3
   },
   "file_extension": ".py",
   "mimetype": "text/x-python",
   "name": "python",
   "nbconvert_exporter": "python",
   "pygments_lexer": "ipython3",
   "version": "3.8.5"
  }
 },
 "nbformat": 4,
 "nbformat_minor": 4
}
